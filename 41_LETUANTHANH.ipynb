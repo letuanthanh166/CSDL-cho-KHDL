{
 "cells": [
  {
   "cell_type": "markdown",
   "metadata": {},
   "source": [
    "* Câu 1: Hãy viết câu lệnh SQL để tính sự tương quan giữa A và B theo công thức sau:\n",
    "\n",
    "$$\n",
    "r_{AB} = \\frac{n \\sum (a_i b_i) - (\\sum a_i \\sum b_i)}\n",
    "{\\sqrt{n \\sum a_i^2 - (\\sum a_i)^2} \\sqrt{n \\sum b_i^2 - (\\sum b_i)^2}}.\n",
    "$$\n"
   ]
  },
  {
   "cell_type": "markdown",
   "metadata": {},
   "source": [
    "* import thư viện : "
   ]
  },
  {
   "cell_type": "code",
   "execution_count": 338,
   "metadata": {},
   "outputs": [],
   "source": [
    "import sqlite3 \n",
    "import math"
   ]
  },
  {
   "cell_type": "markdown",
   "metadata": {},
   "source": [
    "* Kết nối SQLite3 với Python : "
   ]
  },
  {
   "cell_type": "code",
   "execution_count": 339,
   "metadata": {},
   "outputs": [],
   "source": [
    "conn = sqlite3.connect(\"database.db\")\n",
    "cursor = conn.cursor()\n"
   ]
  },
  {
   "cell_type": "markdown",
   "metadata": {},
   "source": [
    "* Tạo bảng "
   ]
  },
  {
   "cell_type": "code",
   "execution_count": 340,
   "metadata": {},
   "outputs": [],
   "source": [
    "cursor.execute(\"\"\"\n",
    "CREATE TABLE IF NOT EXISTS data_table (\n",
    "    id INTEGER PRIMARY KEY AUTOINCREMENT,\n",
    "    A REAL,\n",
    "    B REAL\n",
    ");\n",
    "\"\"\")\n",
    "# Lưu thay đổi vào database\n",
    "conn.commit()\n"
   ]
  },
  {
   "cell_type": "markdown",
   "metadata": {},
   "source": [
    "*  Chèn dữ liệu mẫu :"
   ]
  },
  {
   "cell_type": "code",
   "execution_count": 341,
   "metadata": {},
   "outputs": [],
   "source": [
    "# Chèn dữ liệu mẫu \n",
    "cursor.execute(\"SELECT COUNT(*) FROM data_table\")\n",
    "if cursor.fetchone()[0] == 0:\n",
    "    sample_data = [(2, 5), (3, 6), (4, 8), (5, 9), (6, 11)]\n",
    "    cursor.executemany(\"INSERT INTO data_table (A, B) VALUES (?, ?);\", sample_data)\n",
    "    conn.commit()"
   ]
  },
  {
   "cell_type": "markdown",
   "metadata": {},
   "source": [
    "* Hiển thị dữ liệu : \n"
   ]
  },
  {
   "cell_type": "code",
   "execution_count": 342,
   "metadata": {},
   "outputs": [
    {
     "name": "stdout",
     "output_type": "stream",
     "text": [
      "(1, 2.0, 5.0)\n",
      "(2, 3.0, 6.0)\n",
      "(3, 4.0, 8.0)\n",
      "(4, 5.0, 9.0)\n",
      "(5, 6.0, 11.0)\n"
     ]
    }
   ],
   "source": [
    "# In dữ liệu từ bảng : \n",
    "cursor.execute(\"\"\"\n",
    "    SELECT * \n",
    "    FROM data_table\n",
    "\"\"\")\n",
    "du_lieu = cursor.fetchall()\n",
    "\n",
    "# In kết quả ra màn hình\n",
    "for dong in du_lieu:\n",
    "    print(dong)\n"
   ]
  },
  {
   "cell_type": "markdown",
   "metadata": {},
   "source": [
    "* Truy vấn dữ liệu cần để tính hệ số tương quan : "
   ]
  },
  {
   "cell_type": "code",
   "execution_count": 343,
   "metadata": {},
   "outputs": [],
   "source": [
    "cursor.execute(\"\"\"\n",
    "SELECT \n",
    "    COUNT(*) AS n,\n",
    "    SUM(A) AS sum_A,\n",
    "    SUM(B) AS sum_B,\n",
    "    SUM(A * B) AS sum_AB,\n",
    "    SUM(A * A) AS sum_A2,\n",
    "    SUM(B * B) AS sum_B2\n",
    "FROM data_table;\n",
    "\"\"\")\n",
    "\n",
    "n, sum_A, sum_B, sum_AB, sum_A2, sum_B2 = cursor.fetchone()\n"
   ]
  },
  {
   "cell_type": "markdown",
   "metadata": {},
   "source": [
    "* Tính hệ số tương quan :\n"
   ]
  },
  {
   "cell_type": "code",
   "execution_count": 344,
   "metadata": {},
   "outputs": [],
   "source": [
    "numerator = n * sum_AB - sum_A * sum_B\n",
    "denominator = math.sqrt((n * sum_A2 - sum_A**2) * (n * sum_B2 - sum_B**2))\n",
    "\n",
    "correlation = numerator / denominator if denominator != 0 else None\n"
   ]
  },
  {
   "cell_type": "markdown",
   "metadata": {},
   "source": [
    "* Kết quả : "
   ]
  },
  {
   "cell_type": "code",
   "execution_count": 345,
   "metadata": {},
   "outputs": [
    {
     "name": "stdout",
     "output_type": "stream",
     "text": [
      "Hệ số tương quan giữa A và B  0.993399267798783\n"
     ]
    }
   ],
   "source": [
    "print(\"Hệ số tương quan giữa A và B \", correlation )\n",
    "\n",
    "# Đóng kết nối : \n",
    "conn.close()"
   ]
  },
  {
   "cell_type": "markdown",
   "metadata": {},
   "source": [
    "Câu 2 : Một công ty oto đang kiểm tra 3 loại mẫu mới A, B và C trong 4 ngày, và chấm điểm theo thang từ 1 đến 10 điểm cho mỗi ngày với bảng sau. Liệu có sự khác biệt đáng kể giữa các mẫu dựa trên điểm số mà chúng nhận được trong 4 ngày thử nghiệm không Kết quả thử nghiệm phụ thuộc vào ngày hay phụ thuộc vào mẫu xe? Hãy chuyển đổi dữ liệu sang dạng quan hệ và thực hiện kiểm tra χ2.\n",
    "\n",
    "|       | A   | B   | C   |\n",
    "|-------|-----|-----|-----|\n",
    "| Day 1 | 8   | 9   | 7   |\n",
    "| Day 2 | 7.5 | 8.5 | 7   |\n",
    "| Day 3 | 6   | 7   | 8   |\n",
    "| Day 4 | 7   | 6   | 5   |\n"
   ]
  },
  {
   "cell_type": "code",
   "execution_count": 346,
   "metadata": {},
   "outputs": [],
   "source": [
    "import sqlite3 \n",
    "import pandas as pd\n",
    "import scipy.stats as stats\n"
   ]
  },
  {
   "cell_type": "markdown",
   "metadata": {},
   "source": [
    "* 1. Tạo kết nối SQLite :"
   ]
  },
  {
   "cell_type": "code",
   "execution_count": 347,
   "metadata": {},
   "outputs": [],
   "source": [
    "conn = sqlite3.connect(\"car_test.db\")\n",
    "cursor = conn.cursor()"
   ]
  },
  {
   "cell_type": "markdown",
   "metadata": {},
   "source": [
    "* Tạo bảng điểm :"
   ]
  },
  {
   "cell_type": "code",
   "execution_count": 348,
   "metadata": {},
   "outputs": [
    {
     "data": {
      "text/plain": [
       "<sqlite3.Cursor at 0x19df7fc2540>"
      ]
     },
     "execution_count": 348,
     "metadata": {},
     "output_type": "execute_result"
    }
   ],
   "source": [
    "# Xóa bảng : \n",
    "cursor.execute(\"DROP TABLE IF EXISTS car_scores;\")\n"
   ]
  },
  {
   "cell_type": "code",
   "execution_count": 349,
   "metadata": {},
   "outputs": [
    {
     "data": {
      "text/plain": [
       "<sqlite3.Cursor at 0x19df7fc2540>"
      ]
     },
     "execution_count": 349,
     "metadata": {},
     "output_type": "execute_result"
    }
   ],
   "source": [
    "# Tạo bảng mới\n",
    "cursor.execute(\"\"\"\n",
    "CREATE TABLE car_scores (\n",
    "    Day TEXT,\n",
    "    Model TEXT,\n",
    "    Score REAL\n",
    ");\n",
    "\"\"\")"
   ]
  },
  {
   "cell_type": "markdown",
   "metadata": {},
   "source": [
    "* Chèn dữu liệu vào bảng : \n"
   ]
  },
  {
   "cell_type": "code",
   "execution_count": 350,
   "metadata": {},
   "outputs": [],
   "source": [
    "cursor.execute(\"SELECT COUNT(*) FROM car_scores;\")\n",
    "if cursor.fetchone()[0] == 0:\n",
    "    data = [\n",
    "        (\"Day 1\", \"A\", 8), (\"Day 1\", \"B\", 9), (\"Day 1\", \"C\", 7),\n",
    "        (\"Day 2\", \"A\", 7.5), (\"Day 2\", \"B\", 8.5), (\"Day 2\", \"C\", 7),\n",
    "        (\"Day 3\", \"A\", 6), (\"Day 3\", \"B\", 7), (\"Day 3\", \"C\", 8),\n",
    "        (\"Day 4\", \"A\", 7), (\"Day 4\", \"B\", 6), (\"Day 4\", \"C\", 5),\n",
    "    ]\n",
    "    cursor.executemany(\"INSERT INTO car_scores (Day, Model, Score) VALUES (?, ?, ?);\", data)\n",
    "    conn.commit()\n"
   ]
  },
  {
   "cell_type": "markdown",
   "metadata": {},
   "source": [
    "* Truy vấn dữ liệu ra DataFrame:\n"
   ]
  },
  {
   "cell_type": "code",
   "execution_count": 351,
   "metadata": {},
   "outputs": [
    {
     "data": {
      "text/html": [
       "<div>\n",
       "<style scoped>\n",
       "    .dataframe tbody tr th:only-of-type {\n",
       "        vertical-align: middle;\n",
       "    }\n",
       "\n",
       "    .dataframe tbody tr th {\n",
       "        vertical-align: top;\n",
       "    }\n",
       "\n",
       "    .dataframe thead th {\n",
       "        text-align: right;\n",
       "    }\n",
       "</style>\n",
       "<table border=\"1\" class=\"dataframe\">\n",
       "  <thead>\n",
       "    <tr style=\"text-align: right;\">\n",
       "      <th></th>\n",
       "      <th>Day</th>\n",
       "      <th>Model</th>\n",
       "      <th>Score</th>\n",
       "    </tr>\n",
       "  </thead>\n",
       "  <tbody>\n",
       "    <tr>\n",
       "      <th>0</th>\n",
       "      <td>Day 1</td>\n",
       "      <td>A</td>\n",
       "      <td>8.0</td>\n",
       "    </tr>\n",
       "    <tr>\n",
       "      <th>1</th>\n",
       "      <td>Day 1</td>\n",
       "      <td>B</td>\n",
       "      <td>9.0</td>\n",
       "    </tr>\n",
       "    <tr>\n",
       "      <th>2</th>\n",
       "      <td>Day 1</td>\n",
       "      <td>C</td>\n",
       "      <td>7.0</td>\n",
       "    </tr>\n",
       "    <tr>\n",
       "      <th>3</th>\n",
       "      <td>Day 2</td>\n",
       "      <td>A</td>\n",
       "      <td>7.5</td>\n",
       "    </tr>\n",
       "    <tr>\n",
       "      <th>4</th>\n",
       "      <td>Day 2</td>\n",
       "      <td>B</td>\n",
       "      <td>8.5</td>\n",
       "    </tr>\n",
       "    <tr>\n",
       "      <th>5</th>\n",
       "      <td>Day 2</td>\n",
       "      <td>C</td>\n",
       "      <td>7.0</td>\n",
       "    </tr>\n",
       "    <tr>\n",
       "      <th>6</th>\n",
       "      <td>Day 3</td>\n",
       "      <td>A</td>\n",
       "      <td>6.0</td>\n",
       "    </tr>\n",
       "    <tr>\n",
       "      <th>7</th>\n",
       "      <td>Day 3</td>\n",
       "      <td>B</td>\n",
       "      <td>7.0</td>\n",
       "    </tr>\n",
       "    <tr>\n",
       "      <th>8</th>\n",
       "      <td>Day 3</td>\n",
       "      <td>C</td>\n",
       "      <td>8.0</td>\n",
       "    </tr>\n",
       "    <tr>\n",
       "      <th>9</th>\n",
       "      <td>Day 4</td>\n",
       "      <td>A</td>\n",
       "      <td>7.0</td>\n",
       "    </tr>\n",
       "    <tr>\n",
       "      <th>10</th>\n",
       "      <td>Day 4</td>\n",
       "      <td>B</td>\n",
       "      <td>6.0</td>\n",
       "    </tr>\n",
       "    <tr>\n",
       "      <th>11</th>\n",
       "      <td>Day 4</td>\n",
       "      <td>C</td>\n",
       "      <td>5.0</td>\n",
       "    </tr>\n",
       "  </tbody>\n",
       "</table>\n",
       "</div>"
      ],
      "text/plain": [
       "      Day Model  Score\n",
       "0   Day 1     A    8.0\n",
       "1   Day 1     B    9.0\n",
       "2   Day 1     C    7.0\n",
       "3   Day 2     A    7.5\n",
       "4   Day 2     B    8.5\n",
       "5   Day 2     C    7.0\n",
       "6   Day 3     A    6.0\n",
       "7   Day 3     B    7.0\n",
       "8   Day 3     C    8.0\n",
       "9   Day 4     A    7.0\n",
       "10  Day 4     B    6.0\n",
       "11  Day 4     C    5.0"
      ]
     },
     "execution_count": 351,
     "metadata": {},
     "output_type": "execute_result"
    }
   ],
   "source": [
    "\n",
    "df = pd.read_sql_query(\"SELECT * FROM car_scores\", conn)\n",
    "df\n",
    "\n"
   ]
  },
  {
   "cell_type": "markdown",
   "metadata": {},
   "source": [
    "* Phân loaị điểm số thành nhóm :\n"
   ]
  },
  {
   "cell_type": "code",
   "execution_count": 352,
   "metadata": {},
   "outputs": [
    {
     "name": "stdout",
     "output_type": "stream",
     "text": [
      "\n",
      " Kết quả phân loại điểm số thành nhóm : \n",
      "      Day Model  Score ScoreCategory\n",
      "0   Day 1     A    8.0        Medium\n",
      "1   Day 1     B    9.0         Hight\n",
      "2   Day 1     C    7.0        Medium\n",
      "3   Day 2     A    7.5        Medium\n",
      "4   Day 2     B    8.5         Hight\n",
      "5   Day 2     C    7.0        Medium\n",
      "6   Day 3     A    6.0           Low\n",
      "7   Day 3     B    7.0        Medium\n",
      "8   Day 3     C    8.0        Medium\n",
      "9   Day 4     A    7.0        Medium\n",
      "10  Day 4     B    6.0           Low\n",
      "11  Day 4     C    5.0           Low\n"
     ]
    }
   ],
   "source": [
    "def score_category(score):\n",
    "    if score < 7:\n",
    "        return \"Low\"\n",
    "    elif score <= 8 :\n",
    "        return \"Medium\"\n",
    "    else :\n",
    "        return \"Hight\"\n",
    "df[\"ScoreCategory\"] = df[\"Score\"].apply(score_category)\n",
    "# Hiển thị kết quả : \n",
    "print(\"\\n Kết quả phân loại điểm số thành nhóm : \")\n",
    "print(df)\n",
    "\n"
   ]
  },
  {
   "cell_type": "markdown",
   "metadata": {},
   "source": [
    "* Tạo bảng chéo & kiểm định χ² theo Model"
   ]
  },
  {
   "cell_type": "code",
   "execution_count": 353,
   "metadata": {},
   "outputs": [],
   "source": [
    "contingency_model = pd.crosstab(df[\"Model\"], df[\"ScoreCategory\"])\n",
    "chi2_model, p_model, dof_model, expected_model = stats.chi2_contingency(contingency_model)\n"
   ]
  },
  {
   "cell_type": "markdown",
   "metadata": {},
   "source": [
    "*  Tạo bảng chéo & kiểm định χ² theo Day"
   ]
  },
  {
   "cell_type": "code",
   "execution_count": 354,
   "metadata": {},
   "outputs": [],
   "source": [
    "contingency_day = pd.crosstab(df[\"Day\"], df[\"ScoreCategory\"])\n",
    "chi2_day, p_day, dof_day, expected_day = stats.chi2_contingency(contingency_day)\n"
   ]
  },
  {
   "cell_type": "markdown",
   "metadata": {},
   "source": [
    "* KẾT QUẢ : \n"
   ]
  },
  {
   "cell_type": "code",
   "execution_count": 355,
   "metadata": {},
   "outputs": [
    {
     "name": "stdout",
     "output_type": "stream",
     "text": [
      "KẾT QUẢ KIỂM ĐỊNH χ²: \n",
      "\n",
      "Theo MODEL:\n",
      "ScoreCategory  Hight  Low  Medium\n",
      "Model                            \n",
      "A                  0    1       3\n",
      "B                  2    1       1\n",
      "C                  0    1       3\n",
      "Chi² = 5.1429, p = 0.2730\n"
     ]
    }
   ],
   "source": [
    "print(\"KẾT QUẢ KIỂM ĐỊNH χ²: \")\n",
    "print(\"\\nTheo MODEL:\")\n",
    "print(contingency_model)\n",
    "print(f\"Chi² = {chi2_model:.4f}, p = {p_model:.4f}\")\n"
   ]
  },
  {
   "cell_type": "markdown",
   "metadata": {},
   "source": [
    "* p ≥ 0.05 :  không thấy sự khác biệt rõ ràng về điểm số giữa A, B, C → có thể giống nhau về chất lượng."
   ]
  },
  {
   "cell_type": "code",
   "execution_count": 356,
   "metadata": {},
   "outputs": [
    {
     "name": "stdout",
     "output_type": "stream",
     "text": [
      "\n",
      "Theo NGÀY:\n",
      "ScoreCategory  Hight  Low  Medium\n",
      "Day                              \n",
      "Day 1              1    0       2\n",
      "Day 2              1    0       2\n",
      "Day 3              0    1       2\n",
      "Day 4              0    2       1\n",
      "Chi² = 6.0952, p = 0.4126\n"
     ]
    }
   ],
   "source": [
    "\n",
    "print(\"\\nTheo NGÀY:\")\n",
    "print(contingency_day)\n",
    "print(f\"Chi² = {chi2_day:.4f}, p = {p_day:.4f}\")\n"
   ]
  },
  {
   "cell_type": "markdown",
   "metadata": {},
   "source": [
    "* p ≥ 0.05 : điểm số ổn định giữa các ngày, ngày không ảnh hưởng nhiều đến kết quả.\n",
    "\n"
   ]
  },
  {
   "cell_type": "code",
   "execution_count": 357,
   "metadata": {},
   "outputs": [],
   "source": [
    "# Đóng kết nối\n",
    "conn.close()"
   ]
  },
  {
   "cell_type": "markdown",
   "metadata": {},
   "source": [
    "* Câu 3 :  Bảng flights(departure_time,…) chứa các giá trị thời gian dưới dạng số nguyên (ví dụ: 830 cho 8:30 AM, 1445 cho 2:45 PM). Hãy chuyển đổi các giá trị này thành định dạng thời gian."
   ]
  },
  {
   "cell_type": "code",
   "execution_count": 358,
   "metadata": {},
   "outputs": [],
   "source": [
    "import sqlite3 \n"
   ]
  },
  {
   "cell_type": "markdown",
   "metadata": {},
   "source": [
    "* Kết nối đến cơ sở dữ liệu SQLite"
   ]
  },
  {
   "cell_type": "code",
   "execution_count": 359,
   "metadata": {},
   "outputs": [],
   "source": [
    "conn = sqlite3.connect('flights.db')\n",
    "cursor = conn.cursor()\n"
   ]
  },
  {
   "cell_type": "markdown",
   "metadata": {},
   "source": [
    "* Tạo bảng flights : "
   ]
  },
  {
   "cell_type": "code",
   "execution_count": 360,
   "metadata": {},
   "outputs": [
    {
     "data": {
      "text/plain": [
       "<sqlite3.Cursor at 0x19df8e230c0>"
      ]
     },
     "execution_count": 360,
     "metadata": {},
     "output_type": "execute_result"
    }
   ],
   "source": [
    "# Tạo bảng flights\n",
    "cursor.execute('''\n",
    "CREATE TABLE IF NOT EXISTS flights (\n",
    "    flight_id INTEGER PRIMARY KEY,\n",
    "    departure_time INTEGER\n",
    ")\n",
    "''')"
   ]
  },
  {
   "cell_type": "markdown",
   "metadata": {},
   "source": [
    "* Chèn dữ liệu mẫu : "
   ]
  },
  {
   "cell_type": "code",
   "execution_count": 361,
   "metadata": {},
   "outputs": [],
   "source": [
    "cursor.executemany('''\n",
    "INSERT INTO flights (departure_time) VALUES (?)\n",
    "''', [(830,), (1445,), (2359,), (1200,)])\n",
    "\n",
    "# Lưu thay đổi\n",
    "conn.commit()\n"
   ]
  },
  {
   "cell_type": "markdown",
   "metadata": {},
   "source": [
    "* in dữ liệu\n"
   ]
  },
  {
   "cell_type": "code",
   "execution_count": 362,
   "metadata": {},
   "outputs": [
    {
     "name": "stdout",
     "output_type": "stream",
     "text": [
      "Dữ liệu bảng flights:\n",
      "(1, 830)\n",
      "(2, 1445)\n",
      "(3, 2359)\n",
      "(4, 1200)\n",
      "(5, 830)\n",
      "(6, 1445)\n",
      "(7, 2359)\n",
      "(8, 1200)\n",
      "(9, 830)\n",
      "(10, 1445)\n",
      "(11, 2359)\n",
      "(12, 1200)\n",
      "(13, 830)\n",
      "(14, 1445)\n",
      "(15, 2359)\n",
      "(16, 1200)\n",
      "(17, 830)\n",
      "(18, 1445)\n",
      "(19, 2359)\n",
      "(20, 1200)\n",
      "(21, 830)\n",
      "(22, 1445)\n",
      "(23, 2359)\n",
      "(24, 1200)\n",
      "(25, 830)\n",
      "(26, 1445)\n",
      "(27, 2359)\n",
      "(28, 1200)\n",
      "(29, 830)\n",
      "(30, 1445)\n",
      "(31, 2359)\n",
      "(32, 1200)\n",
      "(33, 830)\n",
      "(34, 1445)\n",
      "(35, 2359)\n",
      "(36, 1200)\n",
      "(37, 830)\n",
      "(38, 1445)\n",
      "(39, 2359)\n",
      "(40, 1200)\n",
      "(41, 830)\n",
      "(42, 1445)\n",
      "(43, 2359)\n",
      "(44, 1200)\n",
      "(45, 830)\n",
      "(46, 1445)\n",
      "(47, 2359)\n",
      "(48, 1200)\n",
      "(49, 830)\n",
      "(50, 1445)\n",
      "(51, 2359)\n",
      "(52, 1200)\n"
     ]
    }
   ],
   "source": [
    "# Truy vấn và in dữ liệu\n",
    "cursor.execute(\"SELECT * FROM flights\")\n",
    "flights_data = cursor.fetchall()\n",
    "\n",
    "print(\"Dữ liệu bảng flights:\")\n",
    "for row in flights_data:\n",
    "    print(row)"
   ]
  },
  {
   "cell_type": "markdown",
   "metadata": {},
   "source": [
    "* Truy vẫn và chuyển đổi dữ liệu thành định dạng thời gian và in kết quả :"
   ]
  },
  {
   "cell_type": "code",
   "execution_count": 363,
   "metadata": {},
   "outputs": [
    {
     "name": "stdout",
     "output_type": "stream",
     "text": [
      "departure_time: 830, formatted_time: 08:30 AM\n",
      "departure_time: 1445, formatted_time: 02:45 PM\n",
      "departure_time: 2359, formatted_time: 11:59 PM\n",
      "departure_time: 1200, formatted_time: 12:00 PM\n",
      "departure_time: 830, formatted_time: 08:30 AM\n",
      "departure_time: 1445, formatted_time: 02:45 PM\n",
      "departure_time: 2359, formatted_time: 11:59 PM\n",
      "departure_time: 1200, formatted_time: 12:00 PM\n",
      "departure_time: 830, formatted_time: 08:30 AM\n",
      "departure_time: 1445, formatted_time: 02:45 PM\n",
      "departure_time: 2359, formatted_time: 11:59 PM\n",
      "departure_time: 1200, formatted_time: 12:00 PM\n",
      "departure_time: 830, formatted_time: 08:30 AM\n",
      "departure_time: 1445, formatted_time: 02:45 PM\n",
      "departure_time: 2359, formatted_time: 11:59 PM\n",
      "departure_time: 1200, formatted_time: 12:00 PM\n",
      "departure_time: 830, formatted_time: 08:30 AM\n",
      "departure_time: 1445, formatted_time: 02:45 PM\n",
      "departure_time: 2359, formatted_time: 11:59 PM\n",
      "departure_time: 1200, formatted_time: 12:00 PM\n",
      "departure_time: 830, formatted_time: 08:30 AM\n",
      "departure_time: 1445, formatted_time: 02:45 PM\n",
      "departure_time: 2359, formatted_time: 11:59 PM\n",
      "departure_time: 1200, formatted_time: 12:00 PM\n",
      "departure_time: 830, formatted_time: 08:30 AM\n",
      "departure_time: 1445, formatted_time: 02:45 PM\n",
      "departure_time: 2359, formatted_time: 11:59 PM\n",
      "departure_time: 1200, formatted_time: 12:00 PM\n",
      "departure_time: 830, formatted_time: 08:30 AM\n",
      "departure_time: 1445, formatted_time: 02:45 PM\n",
      "departure_time: 2359, formatted_time: 11:59 PM\n",
      "departure_time: 1200, formatted_time: 12:00 PM\n",
      "departure_time: 830, formatted_time: 08:30 AM\n",
      "departure_time: 1445, formatted_time: 02:45 PM\n",
      "departure_time: 2359, formatted_time: 11:59 PM\n",
      "departure_time: 1200, formatted_time: 12:00 PM\n",
      "departure_time: 830, formatted_time: 08:30 AM\n",
      "departure_time: 1445, formatted_time: 02:45 PM\n",
      "departure_time: 2359, formatted_time: 11:59 PM\n",
      "departure_time: 1200, formatted_time: 12:00 PM\n",
      "departure_time: 830, formatted_time: 08:30 AM\n",
      "departure_time: 1445, formatted_time: 02:45 PM\n",
      "departure_time: 2359, formatted_time: 11:59 PM\n",
      "departure_time: 1200, formatted_time: 12:00 PM\n",
      "departure_time: 830, formatted_time: 08:30 AM\n",
      "departure_time: 1445, formatted_time: 02:45 PM\n",
      "departure_time: 2359, formatted_time: 11:59 PM\n",
      "departure_time: 1200, formatted_time: 12:00 PM\n",
      "departure_time: 830, formatted_time: 08:30 AM\n",
      "departure_time: 1445, formatted_time: 02:45 PM\n",
      "departure_time: 2359, formatted_time: 11:59 PM\n",
      "departure_time: 1200, formatted_time: 12:00 PM\n"
     ]
    }
   ],
   "source": [
    "# Truy vấn và chuyển đổi thời gian\n",
    "cursor.execute('''\n",
    "SELECT\n",
    "    departure_time,\n",
    "    -- Tách giờ và phút\n",
    "    departure_time / 100 AS hour,\n",
    "    departure_time % 100 AS minute,\n",
    "    \n",
    "    -- Chuyển giờ thành định dạng 12 giờ và xác định AM/PM\n",
    "    CASE\n",
    "        WHEN departure_time / 100 > 12 THEN departure_time / 100 - 12\n",
    "        WHEN departure_time / 100 = 0 THEN 12\n",
    "        ELSE departure_time / 100\n",
    "    END AS hour_12,\n",
    "    \n",
    "    CASE\n",
    "        WHEN departure_time / 100 >= 12 THEN 'PM'\n",
    "        ELSE 'AM'\n",
    "    END AS period,\n",
    "    \n",
    "    -- Định dạng thời gian\n",
    "    printf('%02d:%02d %s', \n",
    "        CASE\n",
    "            WHEN departure_time / 100 > 12 THEN departure_time / 100 - 12\n",
    "            WHEN departure_time / 100 = 0 THEN 12\n",
    "            ELSE departure_time / 100\n",
    "        END, \n",
    "        departure_time % 100, \n",
    "        CASE\n",
    "            WHEN departure_time / 100 >= 12 THEN 'PM'\n",
    "            ELSE 'AM'\n",
    "        END\n",
    "    ) AS formatted_time\n",
    "FROM flights\n",
    "''')\n",
    "\n",
    "# Lấy kết quả\n",
    "rows = cursor.fetchall()\n",
    "\n",
    "# In kết quả ra màn hình\n",
    "for row in rows:\n",
    "    print(f\"departure_time: {row[0]}, formatted_time: {row[5]}\")\n"
   ]
  },
  {
   "cell_type": "code",
   "execution_count": 364,
   "metadata": {},
   "outputs": [],
   "source": [
    "# Đóng kết nối\n",
    "conn.close()"
   ]
  },
  {
   "cell_type": "markdown",
   "metadata": {},
   "source": [
    "* Câu 4: Viết truy vấn SQL để tìm các ngoại lệ bằng cách sử dụng MAD. Một quy tắc chung là xem xét các giá\n",
    "trị ngoại lệ lớn hơn 1,5 lần so với giá trị MAD, trong đó x là số độ lệch chuẩn mà ta coi là có ý nghĩa."
   ]
  },
  {
   "cell_type": "code",
   "execution_count": 365,
   "metadata": {},
   "outputs": [],
   "source": [
    "import sqlite3 "
   ]
  },
  {
   "cell_type": "markdown",
   "metadata": {},
   "source": [
    "* Kết nối tới cơ sở dữ liệu SQLite "
   ]
  },
  {
   "cell_type": "code",
   "execution_count": 366,
   "metadata": {},
   "outputs": [],
   "source": [
    "conn = sqlite3.connect(\"sales.db\")"
   ]
  },
  {
   "cell_type": "markdown",
   "metadata": {},
   "source": [
    "* Tạo đối tượng con trỏ để thực thi các câu lệnh SQL"
   ]
  },
  {
   "cell_type": "code",
   "execution_count": 367,
   "metadata": {},
   "outputs": [],
   "source": [
    "cursor = conn.cursor()"
   ]
  },
  {
   "cell_type": "markdown",
   "metadata": {},
   "source": [
    "* Tạo bảng sales_data"
   ]
  },
  {
   "cell_type": "code",
   "execution_count": 368,
   "metadata": {},
   "outputs": [],
   "source": [
    "cursor.execute('''\n",
    "CREATE TABLE IF NOT EXISTS sales_data (\n",
    "    id INTEGER PRIMARY KEY AUTOINCREMENT,\n",
    "    sales_value INTEGER\n",
    ")\n",
    "''')\n",
    "\n",
    "# Lưu thay đổi\n",
    "conn.commit()"
   ]
  },
  {
   "cell_type": "markdown",
   "metadata": {},
   "source": [
    "* Chèn dữ liệu mẫu vào bảng sales_data"
   ]
  },
  {
   "cell_type": "code",
   "execution_count": 369,
   "metadata": {},
   "outputs": [],
   "source": [
    "# Chèn dữ liệu mẫu vào bảng sales_data\n",
    "cursor.executemany('''\n",
    "INSERT INTO sales_data (sales_value) VALUES (?)\n",
    "''', [(1200,), (1500,), (3000,), (1100,), (1600,), (5000,)])\n",
    "\n",
    "# Lưu thay đổi\n",
    "conn.commit()"
   ]
  },
  {
   "cell_type": "markdown",
   "metadata": {},
   "source": [
    "* Hiển thị dữ liệu : "
   ]
  },
  {
   "cell_type": "code",
   "execution_count": 370,
   "metadata": {},
   "outputs": [
    {
     "data": {
      "text/plain": [
       "[(1, 1200),\n",
       " (2, 1500),\n",
       " (3, 3000),\n",
       " (4, 1100),\n",
       " (5, 1600),\n",
       " (6, 5000),\n",
       " (7, 1200),\n",
       " (8, 1500),\n",
       " (9, 3000),\n",
       " (10, 1100),\n",
       " (11, 1600),\n",
       " (12, 5000),\n",
       " (13, 1200),\n",
       " (14, 1500),\n",
       " (15, 3000),\n",
       " (16, 1100),\n",
       " (17, 1600),\n",
       " (18, 5000),\n",
       " (19, 1200),\n",
       " (20, 1500),\n",
       " (21, 3000),\n",
       " (22, 1100),\n",
       " (23, 1600),\n",
       " (24, 5000),\n",
       " (25, 1200),\n",
       " (26, 1500),\n",
       " (27, 3000),\n",
       " (28, 1100),\n",
       " (29, 1600),\n",
       " (30, 5000),\n",
       " (31, 1200),\n",
       " (32, 1500),\n",
       " (33, 3000),\n",
       " (34, 1100),\n",
       " (35, 1600),\n",
       " (36, 5000),\n",
       " (37, 1200),\n",
       " (38, 1500),\n",
       " (39, 3000),\n",
       " (40, 1100),\n",
       " (41, 1600),\n",
       " (42, 5000),\n",
       " (43, 1200),\n",
       " (44, 1500),\n",
       " (45, 3000),\n",
       " (46, 1100),\n",
       " (47, 1600),\n",
       " (48, 5000),\n",
       " (49, 1200),\n",
       " (50, 1500),\n",
       " (51, 3000),\n",
       " (52, 1100),\n",
       " (53, 1600),\n",
       " (54, 5000),\n",
       " (55, 1200),\n",
       " (56, 1500),\n",
       " (57, 3000),\n",
       " (58, 1100),\n",
       " (59, 1600),\n",
       " (60, 5000),\n",
       " (61, 1200),\n",
       " (62, 1500),\n",
       " (63, 3000),\n",
       " (64, 1100),\n",
       " (65, 1600),\n",
       " (66, 5000),\n",
       " (67, 1200),\n",
       " (68, 1500),\n",
       " (69, 3000),\n",
       " (70, 1100),\n",
       " (71, 1600),\n",
       " (72, 5000)]"
      ]
     },
     "execution_count": 370,
     "metadata": {},
     "output_type": "execute_result"
    }
   ],
   "source": [
    "# In dữ liệu từ bảng : \n",
    "cursor.execute(\"\"\"\n",
    "    SELECT * \n",
    "    FROM sales_data  \"\"\")\n",
    "deviations = cursor.fetchall()\n",
    "deviations"
   ]
  },
  {
   "cell_type": "markdown",
   "metadata": {},
   "source": [
    "* Tính trung vị (Median)"
   ]
  },
  {
   "cell_type": "code",
   "execution_count": 371,
   "metadata": {},
   "outputs": [
    {
     "name": "stdout",
     "output_type": "stream",
     "text": [
      "Median Value: 1500\n"
     ]
    }
   ],
   "source": [
    "# Tính trung vị (Median)\n",
    "cursor.execute('''\n",
    "WITH ordered_sales AS (\n",
    "    SELECT sales_value, ROW_NUMBER() OVER (ORDER BY sales_value) AS row_num, COUNT(*) OVER () AS total_rows\n",
    "    FROM sales_data\n",
    ")\n",
    "SELECT sales_value\n",
    "FROM ordered_sales\n",
    "WHERE row_num = (total_rows + 1) / 2\n",
    "LIMIT 1;\n",
    "''')\n",
    "\n",
    "# Lấy trung vị\n",
    "median_value = cursor.fetchone()[0]\n",
    "print(f\"Median Value: {median_value}\")"
   ]
  },
  {
   "cell_type": "markdown",
   "metadata": {},
   "source": [
    "* Tính độ lệch tuyệt đối từ trung vị (MAD)"
   ]
  },
  {
   "cell_type": "code",
   "execution_count": 372,
   "metadata": {},
   "outputs": [
    {
     "name": "stdout",
     "output_type": "stream",
     "text": [
      "Deviations from median:\n",
      "Sales Value: 1200, Deviation: 300\n",
      "Sales Value: 1500, Deviation: 0\n",
      "Sales Value: 3000, Deviation: 1500\n",
      "Sales Value: 1100, Deviation: 400\n",
      "Sales Value: 1600, Deviation: 100\n",
      "Sales Value: 5000, Deviation: 3500\n",
      "Sales Value: 1200, Deviation: 300\n",
      "Sales Value: 1500, Deviation: 0\n",
      "Sales Value: 3000, Deviation: 1500\n",
      "Sales Value: 1100, Deviation: 400\n",
      "Sales Value: 1600, Deviation: 100\n",
      "Sales Value: 5000, Deviation: 3500\n",
      "Sales Value: 1200, Deviation: 300\n",
      "Sales Value: 1500, Deviation: 0\n",
      "Sales Value: 3000, Deviation: 1500\n",
      "Sales Value: 1100, Deviation: 400\n",
      "Sales Value: 1600, Deviation: 100\n",
      "Sales Value: 5000, Deviation: 3500\n",
      "Sales Value: 1200, Deviation: 300\n",
      "Sales Value: 1500, Deviation: 0\n",
      "Sales Value: 3000, Deviation: 1500\n",
      "Sales Value: 1100, Deviation: 400\n",
      "Sales Value: 1600, Deviation: 100\n",
      "Sales Value: 5000, Deviation: 3500\n",
      "Sales Value: 1200, Deviation: 300\n",
      "Sales Value: 1500, Deviation: 0\n",
      "Sales Value: 3000, Deviation: 1500\n",
      "Sales Value: 1100, Deviation: 400\n",
      "Sales Value: 1600, Deviation: 100\n",
      "Sales Value: 5000, Deviation: 3500\n",
      "Sales Value: 1200, Deviation: 300\n",
      "Sales Value: 1500, Deviation: 0\n",
      "Sales Value: 3000, Deviation: 1500\n",
      "Sales Value: 1100, Deviation: 400\n",
      "Sales Value: 1600, Deviation: 100\n",
      "Sales Value: 5000, Deviation: 3500\n",
      "Sales Value: 1200, Deviation: 300\n",
      "Sales Value: 1500, Deviation: 0\n",
      "Sales Value: 3000, Deviation: 1500\n",
      "Sales Value: 1100, Deviation: 400\n",
      "Sales Value: 1600, Deviation: 100\n",
      "Sales Value: 5000, Deviation: 3500\n",
      "Sales Value: 1200, Deviation: 300\n",
      "Sales Value: 1500, Deviation: 0\n",
      "Sales Value: 3000, Deviation: 1500\n",
      "Sales Value: 1100, Deviation: 400\n",
      "Sales Value: 1600, Deviation: 100\n",
      "Sales Value: 5000, Deviation: 3500\n",
      "Sales Value: 1200, Deviation: 300\n",
      "Sales Value: 1500, Deviation: 0\n",
      "Sales Value: 3000, Deviation: 1500\n",
      "Sales Value: 1100, Deviation: 400\n",
      "Sales Value: 1600, Deviation: 100\n",
      "Sales Value: 5000, Deviation: 3500\n",
      "Sales Value: 1200, Deviation: 300\n",
      "Sales Value: 1500, Deviation: 0\n",
      "Sales Value: 3000, Deviation: 1500\n",
      "Sales Value: 1100, Deviation: 400\n",
      "Sales Value: 1600, Deviation: 100\n",
      "Sales Value: 5000, Deviation: 3500\n",
      "Sales Value: 1200, Deviation: 300\n",
      "Sales Value: 1500, Deviation: 0\n",
      "Sales Value: 3000, Deviation: 1500\n",
      "Sales Value: 1100, Deviation: 400\n",
      "Sales Value: 1600, Deviation: 100\n",
      "Sales Value: 5000, Deviation: 3500\n",
      "Sales Value: 1200, Deviation: 300\n",
      "Sales Value: 1500, Deviation: 0\n",
      "Sales Value: 3000, Deviation: 1500\n",
      "Sales Value: 1100, Deviation: 400\n",
      "Sales Value: 1600, Deviation: 100\n",
      "Sales Value: 5000, Deviation: 3500\n"
     ]
    }
   ],
   "source": [
    "# Tính độ lệch tuyệt đối từ trung vị (MAD)\n",
    "cursor.execute('''\n",
    "SELECT sales_value, ABS(sales_value - ?) AS deviation\n",
    "FROM sales_data;\n",
    "''', (median_value,))\n",
    "\n",
    "# Lấy các độ lệch tuyệt đối\n",
    "deviations = cursor.fetchall()\n",
    "print(\"Deviations from median:\")\n",
    "for row in deviations:\n",
    "    print(f\"Sales Value: {row[0]}, Deviation: {row[1]}\")\n"
   ]
  },
  {
   "cell_type": "markdown",
   "metadata": {},
   "source": [
    "* Tính giá trih MAD : \n"
   ]
  },
  {
   "cell_type": "code",
   "execution_count": 373,
   "metadata": {},
   "outputs": [
    {
     "name": "stdout",
     "output_type": "stream",
     "text": [
      "Giá trị MAD : 300\n"
     ]
    }
   ],
   "source": [
    "# Tính MAD \n",
    "cursor.execute('''\n",
    "WITH deviation_data AS (\n",
    "    SELECT ABS(sales_value - ?) AS deviation\n",
    "    FROM sales_data\n",
    ")\n",
    "SELECT deviation\n",
    "FROM deviation_data\n",
    "ORDER BY deviation\n",
    "LIMIT 1 OFFSET (SELECT (COUNT(*) - 1) / 2 FROM deviation_data);\n",
    "''', (median_value,))\n",
    "\n",
    "# Lấy giá trị MAD\n",
    "mad_value = cursor.fetchone()[0]\n",
    "print(f\"Giá trị MAD : {mad_value}\")\n"
   ]
  },
  {
   "cell_type": "markdown",
   "metadata": {},
   "source": [
    "* Tìm các giá trị ngoại lệ : \n"
   ]
  },
  {
   "cell_type": "code",
   "execution_count": 374,
   "metadata": {},
   "outputs": [
    {
     "name": "stdout",
     "output_type": "stream",
     "text": [
      "Outliers:\n",
      "Outlier Sales Value: 3000\n",
      "Outlier Sales Value: 5000\n",
      "Outlier Sales Value: 3000\n",
      "Outlier Sales Value: 5000\n",
      "Outlier Sales Value: 3000\n",
      "Outlier Sales Value: 5000\n",
      "Outlier Sales Value: 3000\n",
      "Outlier Sales Value: 5000\n",
      "Outlier Sales Value: 3000\n",
      "Outlier Sales Value: 5000\n",
      "Outlier Sales Value: 3000\n",
      "Outlier Sales Value: 5000\n",
      "Outlier Sales Value: 3000\n",
      "Outlier Sales Value: 5000\n",
      "Outlier Sales Value: 3000\n",
      "Outlier Sales Value: 5000\n",
      "Outlier Sales Value: 3000\n",
      "Outlier Sales Value: 5000\n",
      "Outlier Sales Value: 3000\n",
      "Outlier Sales Value: 5000\n",
      "Outlier Sales Value: 3000\n",
      "Outlier Sales Value: 5000\n",
      "Outlier Sales Value: 3000\n",
      "Outlier Sales Value: 5000\n"
     ]
    }
   ],
   "source": [
    "# Tìm các giá trị ngoại lệ (deviation > 1.5 * MAD)\n",
    "cursor.execute('''\n",
    "WITH deviation_data AS (\n",
    "    SELECT sales_value, ABS(sales_value - ?) AS deviation\n",
    "    FROM sales_data\n",
    ")\n",
    "SELECT sales_value\n",
    "FROM deviation_data\n",
    "WHERE deviation > 1.5 * ?\n",
    "''', (median_value, mad_value))\n",
    "\n",
    "# Lấy các giá trị ngoại lệ\n",
    "outliers = cursor.fetchall()\n",
    "print(\"Outliers:\")\n",
    "for row in outliers:\n",
    "    print(f\"Outlier Sales Value: {row[0]}\")\n"
   ]
  },
  {
   "cell_type": "code",
   "execution_count": 375,
   "metadata": {},
   "outputs": [],
   "source": [
    "# Đóng kết nối\n",
    "conn.close() \n"
   ]
  },
  {
   "cell_type": "markdown",
   "metadata": {},
   "source": [
    "* Câu 5 : Hãy xác định liệu hai người trong bảng Patient(last_name, weight, height) có phải là một người hay không bằng cách sử dụng khoảng cách kết hợp Boolean trên “last_name” và “weight”. "
   ]
  },
  {
   "cell_type": "markdown",
   "metadata": {},
   "source": [
    "* import thư viện : "
   ]
  },
  {
   "cell_type": "code",
   "execution_count": null,
   "metadata": {},
   "outputs": [],
   "source": [
    "\n",
    "import sqlite3 \n",
    "import pandas as pd \n"
   ]
  },
  {
   "cell_type": "markdown",
   "metadata": {},
   "source": [
    "* Kết nối SQLite : "
   ]
  },
  {
   "cell_type": "code",
   "execution_count": 377,
   "metadata": {},
   "outputs": [],
   "source": [
    "# Kết nối SQLite\n",
    "conn = sqlite3.connect(\"du_lieu.db\")\n",
    "cursor = conn.cursor()\n",
    "\n"
   ]
  },
  {
   "cell_type": "markdown",
   "metadata": {},
   "source": [
    "*  Tạo bảng Patient : \n"
   ]
  },
  {
   "cell_type": "code",
   "execution_count": 379,
   "metadata": {},
   "outputs": [
    {
     "data": {
      "text/plain": [
       "<sqlite3.Cursor at 0x19df8e06840>"
      ]
     },
     "execution_count": 379,
     "metadata": {},
     "output_type": "execute_result"
    }
   ],
   "source": [
    "cursor.execute(\"\"\"\n",
    "CREATE TABLE Patient (\n",
    "    id INTEGER PRIMARY KEY,\n",
    "    last_name TEXT,\n",
    "    height REAL,\n",
    "    weight REAL\n",
    ")\n",
    "\"\"\")\n",
    "\n"
   ]
  },
  {
   "cell_type": "markdown",
   "metadata": {},
   "source": [
    "* Tạo dữ liệu mẫu :\n"
   ]
  },
  {
   "cell_type": "code",
   "execution_count": 380,
   "metadata": {},
   "outputs": [],
   "source": [
    "sample_data = [\n",
    "    (1, \"Nguyen\", 170.5, 65),\n",
    "    (2, \"Tran\", 165.2, 70.3),\n",
    "    (3, \"Nguyen\", 180.1, 75.5),\n",
    "    (4, \"Le\", 160, 55.2),\n",
    "    (5, \"Nguyen\", 170.4, None)  # Có NULL\n",
    "]\n",
    "\n",
    "cursor.executemany(\"INSERT INTO Patient VALUES (?, ?, ?, ?)\", sample_data)\n",
    "conn.commit()"
   ]
  },
  {
   "cell_type": "markdown",
   "metadata": {},
   "source": [
    "* Kết quả bảng đã tạo : \n"
   ]
  },
  {
   "cell_type": "code",
   "execution_count": 381,
   "metadata": {},
   "outputs": [
    {
     "name": "stdout",
     "output_type": "stream",
     "text": [
      "Dữ liệu bảng Patient:\n",
      "(1, 'Nguyen', 170.5, 65.0)\n",
      "(2, 'Tran', 165.2, 70.3)\n",
      "(3, 'Nguyen', 180.1, 75.5)\n",
      "(4, 'Le', 160.0, 55.2)\n",
      "(5, 'Nguyen', 170.4, None)\n"
     ]
    }
   ],
   "source": [
    "# Truy vấn tất cả dữ liệu từ bảng Patient\n",
    "cursor.execute(\"SELECT * FROM Patient\")\n",
    "patients = cursor.fetchall()\n",
    "\n",
    "# In kết quả\n",
    "print(\"Dữ liệu bảng Patient:\")\n",
    "for row in patients:\n",
    "    print(row)\n"
   ]
  },
  {
   "cell_type": "markdown",
   "metadata": {},
   "source": [
    "* Truy vấn để so sánh từng cặp bệnh nhân : "
   ]
  },
  {
   "cell_type": "code",
   "execution_count": 382,
   "metadata": {},
   "outputs": [
    {
     "name": "stdout",
     "output_type": "stream",
     "text": [
      "   id1  id2   name1   name2  weight1  weight2  same_person\n",
      "0    1    2  Nguyen    Tran     65.0     70.3            0\n",
      "1    1    3  Nguyen  Nguyen     65.0     75.5            0\n",
      "2    1    4  Nguyen      Le     65.0     55.2            0\n",
      "3    1    5  Nguyen  Nguyen     65.0      NaN            0\n",
      "4    2    3    Tran  Nguyen     70.3     75.5            0\n",
      "5    2    4    Tran      Le     70.3     55.2            0\n",
      "6    2    5    Tran  Nguyen     70.3      NaN            0\n",
      "7    3    4  Nguyen      Le     75.5     55.2            0\n",
      "8    3    5  Nguyen  Nguyen     75.5      NaN            0\n",
      "9    4    5      Le  Nguyen     55.2      NaN            0\n"
     ]
    }
   ],
   "source": [
    "query = '''\n",
    "SELECT \n",
    "    p1.id AS id1, p2.id AS id2,\n",
    "    p1.last_name AS name1, p2.last_name AS name2,\n",
    "    p1.weight AS weight1, p2.weight AS weight2,\n",
    "    CASE\n",
    "        WHEN p1.last_name = p2.last_name \n",
    "             AND p1.weight IS NOT NULL AND p2.weight IS NOT NULL\n",
    "             AND ABS(p1.weight - p2.weight) < 1.0\n",
    "        THEN 1\n",
    "        ELSE 0\n",
    "    END AS same_person\n",
    "FROM Patient p1\n",
    "JOIN Patient p2 ON p1.id < p2.id\n",
    "'''\n",
    "\n",
    "df_result = pd.read_sql_query(query, conn)\n",
    "print(df_result)"
   ]
  },
  {
   "cell_type": "markdown",
   "metadata": {},
   "source": [
    "Nhận xét kết quả trên : \n",
    "* Cột same_person đều bằng 0 → nghĩa là không có cặp nào đủ điều kiện để được coi là cùng một người theo tiêu chí bạn đặt ra."
   ]
  }
 ],
 "metadata": {
  "kernelspec": {
   "display_name": "base",
   "language": "python",
   "name": "python3"
  },
  "language_info": {
   "codemirror_mode": {
    "name": "ipython",
    "version": 3
   },
   "file_extension": ".py",
   "mimetype": "text/x-python",
   "name": "python",
   "nbconvert_exporter": "python",
   "pygments_lexer": "ipython3",
   "version": "3.12.7"
  }
 },
 "nbformat": 4,
 "nbformat_minor": 2
}
